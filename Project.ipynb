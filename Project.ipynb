{
 "cells": [
  {
   "cell_type": "markdown",
   "id": "d4672181-873d-4f23-ac79-a18b18d3dca7",
   "metadata": {},
   "source": [
    "# Text Classification Using CNN model"
   ]
  },
  {
   "cell_type": "code",
   "execution_count": 1,
   "id": "597b21a1-5582-4b58-8500-76fd62b2b5fd",
   "metadata": {},
   "outputs": [],
   "source": [
    "import torch\n",
    "from torchtext import data, datasets\n",
    "import random\n",
    "from torchtext.vocab import vocab"
   ]
  },
  {
   "cell_type": "code",
   "execution_count": 2,
   "id": "fa6fe820-0716-44ff-9f73-b3f012cae7f3",
   "metadata": {},
   "outputs": [
    {
     "name": "stdout",
     "output_type": "stream",
     "text": [
      "Requirement already satisfied: torchtext in f:\\anaconda\\lib\\site-packages (0.15.1)\n",
      "Requirement already satisfied: requests in f:\\anaconda\\lib\\site-packages (from torchtext) (2.27.1)\n",
      "Requirement already satisfied: torchdata==0.6.0 in f:\\anaconda\\lib\\site-packages (from torchtext) (0.6.0)\n",
      "Requirement already satisfied: torch==2.0.0 in f:\\anaconda\\lib\\site-packages (from torchtext) (2.0.0)\n",
      "Requirement already satisfied: numpy in f:\\anaconda\\lib\\site-packages (from torchtext) (1.21.5)\n",
      "Requirement already satisfied: tqdm in f:\\anaconda\\lib\\site-packages (from torchtext) (4.64.0)\n",
      "Requirement already satisfied: filelock in f:\\anaconda\\lib\\site-packages (from torch==2.0.0->torchtext) (3.6.0)\n",
      "Requirement already satisfied: jinja2 in f:\\anaconda\\lib\\site-packages (from torch==2.0.0->torchtext) (2.11.3)\n",
      "Requirement already satisfied: typing-extensions in f:\\anaconda\\lib\\site-packages (from torch==2.0.0->torchtext) (4.1.1)\n",
      "Requirement already satisfied: networkx in f:\\anaconda\\lib\\site-packages (from torch==2.0.0->torchtext) (2.7.1)\n",
      "Requirement already satisfied: sympy in f:\\anaconda\\lib\\site-packages (from torch==2.0.0->torchtext) (1.10.1)\n",
      "Requirement already satisfied: urllib3>=1.25 in f:\\anaconda\\lib\\site-packages (from torchdata==0.6.0->torchtext) (1.26.9)\n",
      "Requirement already satisfied: MarkupSafe>=0.23 in f:\\anaconda\\lib\\site-packages (from jinja2->torch==2.0.0->torchtext) (2.0.1)\n",
      "Requirement already satisfied: charset-normalizer~=2.0.0 in f:\\anaconda\\lib\\site-packages (from requests->torchtext) (2.0.4)\n",
      "Requirement already satisfied: certifi>=2017.4.17 in f:\\anaconda\\lib\\site-packages (from requests->torchtext) (2021.10.8)\n",
      "Requirement already satisfied: idna<4,>=2.5 in f:\\anaconda\\lib\\site-packages (from requests->torchtext) (3.3)\n",
      "Requirement already satisfied: mpmath>=0.19 in f:\\anaconda\\lib\\site-packages (from sympy->torch==2.0.0->torchtext) (1.2.1)\n",
      "Requirement already satisfied: colorama in f:\\anaconda\\lib\\site-packages (from tqdm->torchtext) (0.4.4)\n",
      "Note: you may need to restart the kernel to use updated packages.\n"
     ]
    }
   ],
   "source": [
    "pip install torchtext"
   ]
  },
  {
   "cell_type": "code",
   "execution_count": 34,
   "id": "81a6c1d8-628d-424a-8940-ca0394f33102",
   "metadata": {},
   "outputs": [
    {
     "name": "stdout",
     "output_type": "stream",
     "text": [
      "cpu\n"
     ]
    }
   ],
   "source": [
    "seed = 996\n",
    "torch.manual_seed(seed)\n",
    "device = torch.device('cuda' if torch.cuda.is_available() else 'cpu')\n",
    "print(device)"
   ]
  },
  {
   "cell_type": "code",
   "execution_count": 51,
   "id": "ddbd0fe4-914f-46f3-8b3d-b8c40bfae9ec",
   "metadata": {},
   "outputs": [],
   "source": [
    "# Define Fields\n",
    "#TEXT = data.Field(tokenize = 'spacy', lower = True)\n",
    "#LABEL = data.LabelField()"
   ]
  },
  {
   "cell_type": "markdown",
   "id": "4ed94b65-c908-4bed-973d-a6dafa42646a",
   "metadata": {},
   "source": [
    "# CNN Model"
   ]
  },
  {
   "cell_type": "code",
   "execution_count": 3,
   "id": "9ff7a0f8-28a9-4b33-807d-2848c368d8b1",
   "metadata": {},
   "outputs": [],
   "source": [
    "import torch\n",
    "import torch.nn as nn\n",
    "import torch.nn.functional as F"
   ]
  },
  {
   "cell_type": "code",
   "execution_count": 27,
   "id": "0039c619-d4f6-4c90-b18c-d7bc6d83cd76",
   "metadata": {},
   "outputs": [],
   "source": [
    "class CNN(nn.Module):\n",
    "    def __init__(self,vocabulary_size,embedding_size,kernel_number,kernel_sizes,output_size,dropout_rate):\n",
    "        super().__init__()\n",
    "        self.embedding = nn.Embedding(vocabulary_size,embedding_size)\n",
    "        self.convulution_layers = nn.ModuleList([nn.Conv2d(in_channels=1,out_channels=kernel_number,kernel_size=(k,embedding_size))for k in kernel_sizes])\n",
    "        self.dropout = nn.Dropout(dropout_rate)\n",
    "        self.fully_connected = nn.Linear(len(kernel_sizes)*kernel_number, output_size)\n",
    "        \n",
    "    def forward(self,text):\n",
    "        test = text.permute(1,0)\n",
    "        input_embeddings = self.embedding(text)\n",
    "        input_embeddings = input_embeddings.unsqueeze(1)\n",
    "        conved = [F.relu(convolution_layer(input_embeddings)).squeeze(3)\n",
    "                 for convolution_layer in slef.convolution_layers]\n",
    "        pooled = [F.max_poolld(conv , conv.shape[2]).squeeze(2) for conv in conved]\n",
    "        concat = self.dropout(torch.cat(pooled,dim=1))\n",
    "        final_output = self.fully_connected(concat)\n",
    "        \n",
    "        return final_output"
   ]
  },
  {
   "cell_type": "code",
   "execution_count": 28,
   "id": "d96992ea-6113-430f-9607-7dc965fb036f",
   "metadata": {},
   "outputs": [],
   "source": [
    "vocabulary_size = 2679\n",
    "embedding_size = 100\n",
    "kernel_number = 100\n",
    "kernel_sizes = [2,3,4]\n",
    "output_size = 6\n",
    "dropout_rate = 0.3"
   ]
  },
  {
   "cell_type": "code",
   "execution_count": 29,
   "id": "2be40926-1e23-4e14-a150-dacf4c60f909",
   "metadata": {},
   "outputs": [],
   "source": [
    "Model = CNN(vocabulary_size, embedding_size, kernel_number, kernel_sizes, output_size, dropout_rate)"
   ]
  },
  {
   "cell_type": "code",
   "execution_count": 30,
   "id": "e72b3278-7209-43f9-a441-43bdbc506097",
   "metadata": {},
   "outputs": [
    {
     "name": "stdout",
     "output_type": "stream",
     "text": [
      "CNN(\n",
      "  (embedding): Embedding(2679, 100)\n",
      "  (convulution_layers): ModuleList(\n",
      "    (0): Conv2d(1, 100, kernel_size=(2, 100), stride=(1, 1))\n",
      "    (1): Conv2d(1, 100, kernel_size=(3, 100), stride=(1, 1))\n",
      "    (2): Conv2d(1, 100, kernel_size=(4, 100), stride=(1, 1))\n",
      "  )\n",
      "  (dropout): Dropout(p=0.3, inplace=False)\n",
      "  (fully_connected): Linear(in_features=300, out_features=6, bias=True)\n",
      ")\n"
     ]
    }
   ],
   "source": [
    "print(Model)"
   ]
  },
  {
   "cell_type": "markdown",
   "id": "66d7dc65-15de-4197-97df-9f6755f84503",
   "metadata": {},
   "source": [
    "# TRAINING MODEL"
   ]
  },
  {
   "cell_type": "code",
   "execution_count": 39,
   "id": "37ea9a16-200d-49d0-8f0d-088bac412446",
   "metadata": {},
   "outputs": [],
   "source": [
    "import torch.optim as optim\n",
    "import torch.nn as nn\n",
    "\n",
    "criterion = nn.CrossEntropyLoss()\n",
    "criterion = criterion.to(device)\n",
    "\n",
    "optimizer = optim.Adam (Model.parameters())"
   ]
  },
  {
   "cell_type": "code",
   "execution_count": 41,
   "id": "0643d0c0-74c2-4f88-ba38-231717a85af2",
   "metadata": {},
   "outputs": [],
   "source": [
    "def accuracy(predictions, actual_label):\n",
    "    max_predictions = predictions.argmax(dim = 1, keepdim = True, ) \n",
    "    correct_predictions = max_predictions.squeeze (1).eq(actual_label)\n",
    "    accuracy = correct_predictions.sum() / torch.cuda. FloatTensor([actual_label.shape[0]])\n",
    "    return accuracy"
   ]
  },
  {
   "cell_type": "code",
   "execution_count": 61,
   "id": "d9b2336f-615a-4152-9137-a39bbc14881a",
   "metadata": {},
   "outputs": [],
   "source": [
    "def train (Model, iterator, optimizer, criterion):\n",
    "    \n",
    "    Model.train()\n",
    "    epoch_loss=0\n",
    "    epoch_acc = 0\n",
    "    \n",
    "    for batch in iterator:\n",
    "        #optimizer\n",
    "        optimizer.zero_grad()\n",
    "        # predictions\n",
    "        prediction = Model(batch.text)\n",
    "        # loss\n",
    "        loss = criterion(prediction, batch.label)\n",
    "        # accuracy\n",
    "        acc = accuracy(prediction, batch.label)\n",
    "        loss.backward()\n",
    "        \n",
    "        optimizer.step()\n",
    "        epoch_loss += loss.item()\n",
    "        epoch_acc += acc.item()\n",
    "    \n",
    "    return epoch_loss / len(iterator), epoch_acc / len(iterator)"
   ]
  },
  {
   "cell_type": "code",
   "execution_count": 62,
   "id": "850fc506-7190-41f5-8606-12aa977ea4e9",
   "metadata": {},
   "outputs": [],
   "source": [
    "def evaluate(Model, iterator, criterion):\n",
    "    Model.eval()\n",
    "    epoch_loss = 0\n",
    "    epoch_acc = 0\n",
    "    with torch.no_grad():\n",
    "        \n",
    "        for batch in iterator:\n",
    "            \n",
    "            predictions = Model(batch.text)\n",
    "            loss = criterion(predictions, batch.label)\n",
    "            acc = categorical_accuracy(predictions, batch.label)\n",
    "            epoch_loss += loss.item()\n",
    "            epoch_acc += acc.item()\n",
    "            \n",
    "    return epoch_loss / len(iterator), epoch_acc / len(iterator)"
   ]
  },
  {
   "cell_type": "markdown",
   "id": "2d28c540-f9a5-4133-bd1e-6db573f75074",
   "metadata": {},
   "source": [
    "# Processing Text Data"
   ]
  },
  {
   "cell_type": "code",
   "execution_count": 63,
   "id": "ad22d108-6539-4888-b1b6-bab4edef0621",
   "metadata": {},
   "outputs": [
    {
     "ename": "NameError",
     "evalue": "name 'train_iterator' is not defined",
     "output_type": "error",
     "traceback": [
      "\u001b[1;31m---------------------------------------------------------------------------\u001b[0m",
      "\u001b[1;31mNameError\u001b[0m                                 Traceback (most recent call last)",
      "Input \u001b[1;32mIn [63]\u001b[0m, in \u001b[0;36m<cell line: 4>\u001b[1;34m()\u001b[0m\n\u001b[0;32m      2\u001b[0m best_acc \u001b[38;5;241m=\u001b[39m \u001b[38;5;28mfloat\u001b[39m(\u001b[38;5;124m'\u001b[39m\u001b[38;5;124m-inf\u001b[39m\u001b[38;5;124m'\u001b[39m)\n\u001b[0;32m      4\u001b[0m \u001b[38;5;28;01mfor\u001b[39;00m epoch \u001b[38;5;129;01min\u001b[39;00m \u001b[38;5;28mrange\u001b[39m (no_of_epochs):\n\u001b[0;32m      5\u001b[0m     \u001b[38;5;66;03m# Write the code here \u001b[39;00m\n\u001b[1;32m----> 6\u001b[0m     train_loss, train_acc \u001b[38;5;241m=\u001b[39m train(Model, \u001b[43mtrain_iterator\u001b[49m, optimizer, criterion)\n\u001b[0;32m      7\u001b[0m     \u001b[38;5;66;03m#Write the code here \u001b[39;00m\n\u001b[0;32m      8\u001b[0m     valid_loss, valid_acc\u001b[38;5;241m=\u001b[39m evaluate(Model, valid_iterator, criterion)\n",
      "\u001b[1;31mNameError\u001b[0m: name 'train_iterator' is not defined"
     ]
    }
   ],
   "source": [
    "no_of_epochs = 20\n",
    "best_acc = float('-inf')\n",
    "\n",
    "for epoch in range (no_of_epochs):\n",
    "    # Write the code here \n",
    "    train_loss, train_acc = train(Model, train_iterator, optimizer, criterion)\n",
    "    #Write the code here \n",
    "    valid_loss, valid_acc= evaluate(Model, valid_iterator, criterion)\n",
    "\n",
    "    if valid_acc > best_acc: \n",
    "        #Write the code here.\n",
    "        best_acc = valid_acc\n",
    "        torch.save(model.save_dict(), 'trec.pt')\n",
    "    \n",
    "    print(f'Epoch {epoch+1}')\n",
    "    print(f'\\tTrain Loss: {train_loss:.3f} | Train Acc: {train_acc*100:.2f}%')\n",
    "    print(f'\\t Validation Loss: {valid_loss:.3f}Validation Acc: {valid_acc*100:.2f}%')"
   ]
  },
  {
   "cell_type": "code",
   "execution_count": 64,
   "id": "0e7a4d40-9953-40ad-8ec5-fdee0279d572",
   "metadata": {},
   "outputs": [
    {
     "ename": "SyntaxError",
     "evalue": "invalid syntax (1091349993.py, line 2)",
     "output_type": "error",
     "traceback": [
      "\u001b[1;36m  Input \u001b[1;32mIn [64]\u001b[1;36m\u001b[0m\n\u001b[1;33m    test_loss, test_acc = evaluate(model, test iterator, criterion)\u001b[0m\n\u001b[1;37m                                               ^\u001b[0m\n\u001b[1;31mSyntaxError\u001b[0m\u001b[1;31m:\u001b[0m invalid syntax\n"
     ]
    }
   ],
   "source": [
    "model.load_state_dict(torch.load('trec.pt'))\n",
    "test_loss, test_acc = evaluate(model, test iterator, criterion)\n",
    "print (f'Test Loss : {test_loss:.3f} | Test Acc : {test_acc*100:.2f}%')"
   ]
  },
  {
   "cell_type": "code",
   "execution_count": null,
   "id": "d7185c64-bef0-442f-91b3-3f262cdc379f",
   "metadata": {},
   "outputs": [],
   "source": []
  }
 ],
 "metadata": {
  "kernelspec": {
   "display_name": "Python 3 (ipykernel)",
   "language": "python",
   "name": "python3"
  },
  "language_info": {
   "codemirror_mode": {
    "name": "ipython",
    "version": 3
   },
   "file_extension": ".py",
   "mimetype": "text/x-python",
   "name": "python",
   "nbconvert_exporter": "python",
   "pygments_lexer": "ipython3",
   "version": "3.9.12"
  }
 },
 "nbformat": 4,
 "nbformat_minor": 5
}
