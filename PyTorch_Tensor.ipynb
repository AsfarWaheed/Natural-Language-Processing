{
 "cells": [
  {
   "cell_type": "code",
   "execution_count": 2,
   "id": "5bda12fe-2d7d-4036-a715-9b50aef92aec",
   "metadata": {},
   "outputs": [],
   "source": [
    "import torch\n",
    "import numpy as np"
   ]
  },
  {
   "cell_type": "code",
   "execution_count": 2,
   "id": "978a9d98-69eb-49c9-acb5-396e9ddbab3e",
   "metadata": {},
   "outputs": [
    {
     "name": "stdout",
     "output_type": "stream",
     "text": [
      "Collecting torch\n",
      "  Downloading torch-2.0.0-cp39-cp39-win_amd64.whl (172.3 MB)\n",
      "Requirement already satisfied: jinja2 in f:\\anaconda\\lib\\site-packages (from torch) (2.11.3)\n",
      "Requirement already satisfied: typing-extensions in f:\\anaconda\\lib\\site-packages (from torch) (4.1.1)\n",
      "Requirement already satisfied: filelock in f:\\anaconda\\lib\\site-packages (from torch) (3.6.0)\n",
      "Requirement already satisfied: sympy in f:\\anaconda\\lib\\site-packages (from torch) (1.10.1)\n",
      "Requirement already satisfied: networkx in f:\\anaconda\\lib\\site-packages (from torch) (2.7.1)\n",
      "Requirement already satisfied: MarkupSafe>=0.23 in f:\\anaconda\\lib\\site-packages (from jinja2->torch) (2.0.1)\n",
      "Requirement already satisfied: mpmath>=0.19 in f:\\anaconda\\lib\\site-packages (from sympy->torch) (1.2.1)\n",
      "Installing collected packages: torch\n",
      "Successfully installed torch-2.0.0\n",
      "Note: you may need to restart the kernel to use updated packages.\n"
     ]
    }
   ],
   "source": [
    "pip install torch"
   ]
  },
  {
   "cell_type": "code",
   "execution_count": 6,
   "id": "ffa4b24a-84d3-4a40-9f8f-2abdded7acad",
   "metadata": {},
   "outputs": [
    {
     "name": "stdout",
     "output_type": "stream",
     "text": [
      "tensor([[1, 2],\n",
      "        [3, 4],\n",
      "        [5, 6]])\n",
      "<class 'torch.Tensor'>\n",
      "torch.int64\n",
      "torch.Size([3, 2])\n"
     ]
    }
   ],
   "source": [
    "# Construct a tensor from an array\n",
    "array = [[1,2],[3,4],[5,6]]\n",
    "tensor0 = torch.tensor(array)\n",
    "print(tensor0)\n",
    "print(type(tensor0))\n",
    "print(tensor0.dtype)\n",
    "print(tensor0.shape)"
   ]
  },
  {
   "cell_type": "code",
   "execution_count": 8,
   "id": "77fda47c-c11e-47bc-bd5c-0c5fe6fd1265",
   "metadata": {},
   "outputs": [
    {
     "name": "stdout",
     "output_type": "stream",
     "text": [
      "tensor([[1, 2],\n",
      "        [3, 4],\n",
      "        [5, 6]], dtype=torch.int32)\n",
      "<class 'torch.Tensor'>\n",
      "torch.int32\n",
      "torch.Size([3, 2])\n"
     ]
    }
   ],
   "source": [
    "# Construct a tensor from a numpy array\n",
    "np_array = np.array([[1,2],[3,4],[5,6]])\n",
    "tensor1 = torch.tensor(np_array)\n",
    "print(tensor1)\n",
    "print(type(tensor1))\n",
    "print(tensor1.dtype)\n",
    "print(tensor1.shape)"
   ]
  },
  {
   "cell_type": "markdown",
   "id": "1b7cc5f5-20e0-4f77-afd9-ed9dba241b8e",
   "metadata": {},
   "source": [
    "# Methods "
   ]
  },
  {
   "cell_type": "markdown",
   "id": "ebe4150a-212f-465a-afda-bb2c5f7ac5e6",
   "metadata": {},
   "source": [
    "#SLICING"
   ]
  },
  {
   "cell_type": "code",
   "execution_count": 9,
   "id": "73b4e558-b286-4f0e-93b5-daa635ca4316",
   "metadata": {},
   "outputs": [],
   "source": [
    "tensorA = torch.tensor([[1,2,3],[4,5,6]])\n",
    "tensorB = torch.tensor([[7,8,9],[4,6,8]])"
   ]
  },
  {
   "cell_type": "code",
   "execution_count": 12,
   "id": "454b8049-d135-4863-a444-d641410b47ac",
   "metadata": {},
   "outputs": [
    {
     "name": "stdout",
     "output_type": "stream",
     "text": [
      "tensor([[1, 2, 3],\n",
      "        [4, 5, 6]])\n",
      "tensor([[1, 2],\n",
      "        [4, 5]])\n"
     ]
    }
   ],
   "source": [
    "print(tensorA[:2])\n",
    "print(tensorA[:, :2])"
   ]
  },
  {
   "cell_type": "markdown",
   "id": "ec320050-f72d-4c3e-90b9-ca99479ee1be",
   "metadata": {},
   "source": [
    "#Concatenation"
   ]
  },
  {
   "cell_type": "code",
   "execution_count": 15,
   "id": "578ea997-4fa0-4e9f-9758-4c5b1d084d33",
   "metadata": {},
   "outputs": [
    {
     "name": "stdout",
     "output_type": "stream",
     "text": [
      "verticall concatenate tensorA and tensorB\n",
      "tensor([[1, 2, 3],\n",
      "        [4, 5, 6],\n",
      "        [7, 8, 9],\n",
      "        [4, 6, 8]])\n",
      "Horizontal concatination of tensorA and TensorB\n",
      "tensor([[1, 2, 3, 7, 8, 9],\n",
      "        [4, 5, 6, 4, 6, 8]])\n"
     ]
    }
   ],
   "source": [
    "print(\"verticall concatenate tensorA and tensorB\")\n",
    "conc_v = torch.cat([tensorA, tensorB])\n",
    "print(conc_v)\n",
    "print(\"Horizontal concatination of tensorA and TensorB\")\n",
    "conc_h = torch.cat([tensorA, tensorB],dim = 1)\n",
    "print(conc_h)"
   ]
  },
  {
   "cell_type": "code",
   "execution_count": null,
   "id": "462b2d2f-9fd9-4078-aa24-76851c4c94ea",
   "metadata": {},
   "outputs": [],
   "source": []
  }
 ],
 "metadata": {
  "kernelspec": {
   "display_name": "Python 3 (ipykernel)",
   "language": "python",
   "name": "python3"
  },
  "language_info": {
   "codemirror_mode": {
    "name": "ipython",
    "version": 3
   },
   "file_extension": ".py",
   "mimetype": "text/x-python",
   "name": "python",
   "nbconvert_exporter": "python",
   "pygments_lexer": "ipython3",
   "version": "3.9.12"
  }
 },
 "nbformat": 4,
 "nbformat_minor": 5
}
